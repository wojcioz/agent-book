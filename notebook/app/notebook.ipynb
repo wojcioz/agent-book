{
 "cells": [
  {
   "cell_type": "code",
   "execution_count": 4,
   "id": "e1b64c79-0ce8-492e-a3cb-a66f9190776e",
   "metadata": {},
   "outputs": [],
   "source": []
  }
 ],
 "metadata": {
  "kernelspec": {
   "display_name": "Python 3 (ipykernel)",
   "language": "python",
   "name": "python3"
  }
 },
 "nbformat": 4,
 "nbformat_minor": 5
}
