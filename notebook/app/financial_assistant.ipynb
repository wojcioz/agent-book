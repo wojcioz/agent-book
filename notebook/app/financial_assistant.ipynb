{
 "cells": [
  {
   "cell_type": "code",
   "execution_count": 11,
   "id": "e1b64c79-0ce8-492e-a3cb-a66f9190776e",
   "metadata": {},
   "outputs": [],
   "source": [
    "from phi.agent import Agent\n",
    "from phi.model.groq import Groq\n",
    "from phi.tools.yfinance import YFinanceTools\n",
    "from phi.tools.duckduckgo import DuckDuckGo\n",
    "\n"
   ]
  },
  {
   "cell_type": "code",
   "execution_count": 12,
   "id": "1cbcd5bb",
   "metadata": {},
   "outputs": [],
   "source": [
    "# Websearch Agent\n",
    "websearch_agent = Agent(\n",
    "    name=\"Websearch Agent\",\n",
    "    role=\"Search the web for information\",\n",
    "    model=Groq(id=\"llama-3.3-70b-versatile\"),\n",
    "    tools=[DuckDuckGo()],\n",
    "    instructions=\"Always include sources and references in your answers. The references must be links to specific articles.\",\n",
    "    show_tool_calls=True,\n",
    "    markdown=True,\n",
    ")"
   ]
  },
  {
   "cell_type": "code",
   "execution_count": 13,
   "id": "c276c7d4",
   "metadata": {},
   "outputs": [],
   "source": [
    "\n",
    "# Financial Agent\n",
    "financial_agent = Agent(\n",
    "    name=\"Financial Agent\",\n",
    "    model=Groq(id=\"llama-3.3-70b-versatile\"),\n",
    "    tools=[\n",
    "        YFinanceTools(\n",
    "            stock_price=True,\n",
    "            analyst_recommendations=True,\n",
    "            stock_fundamentals=True,\n",
    "            company_news=True,\n",
    "        )\n",
    "    ],\n",
    "    instructions=\"Use tables to display the data.\",\n",
    "    show_tool_calls=True,\n",
    "    markdown=True,\n",
    ")"
   ]
  },
  {
   "cell_type": "code",
   "execution_count": 14,
   "id": "5001ea57",
   "metadata": {},
   "outputs": [],
   "source": [
    "multi_ai_agent = Agent(\n",
    "    team=[websearch_agent, financial_agent],\n",
    "    model=Groq(id=\"llama-3.1-70b-versatile\"),\n",
    "    instructions=[\"Always include sources and references in your answers. The references must be links to specific articles.\", \"Use table to display data\"],\n",
    "    show_tool_calls=True,\n",
    "    markdown=True,\n",
    ")\n",
    "\n"
   ]
  },
  {
   "cell_type": "code",
   "execution_count": 18,
   "id": "3c32c779",
   "metadata": {},
   "outputs": [
    {
     "data": {
      "application/vnd.jupyter.widget-view+json": {
       "model_id": "e6f6fee7b10e4bb58f2840f56b953f1e",
       "version_major": 2,
       "version_minor": 0
      },
      "text/plain": [
       "Output()"
      ]
     },
     "metadata": {},
     "output_type": "display_data"
    },
    {
     "data": {
      "text/html": [
       "<pre style=\"white-space:pre;overflow-x:auto;line-height:normal;font-family:Menlo,'DejaVu Sans Mono',consolas,'Courier New',monospace\"></pre>\n"
      ],
      "text/plain": []
     },
     "metadata": {},
     "output_type": "display_data"
    }
   ],
   "source": [
    "multi_ai_agent.print_response(\n",
    "    \"Summarize analyst recommendations and share the latest news for NVDA.\",\n",
    "    stream=True,\n",
    ")"
   ]
  }
 ],
 "metadata": {
  "kernelspec": {
   "display_name": "Python 3 (ipykernel)",
   "language": "python",
   "name": "python3"
  },
  "language_info": {
   "codemirror_mode": {
    "name": "ipython",
    "version": 3
   },
   "file_extension": ".py",
   "mimetype": "text/x-python",
   "name": "python",
   "nbconvert_exporter": "python",
   "pygments_lexer": "ipython3",
   "version": "3.11.11"
  }
 },
 "nbformat": 4,
 "nbformat_minor": 5
}
